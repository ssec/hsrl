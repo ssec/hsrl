{
 "cells": [
  {
   "cell_type": "markdown",
   "metadata": {},
   "source": [
    "# Read and display UW-Madison HSRL L1B scanning data\n",
    "\n",
    "## Table of contents\n",
    "\n",
    "1. [Introduction](#Introduction)\n",
    "2. [The L1B file name convention](#The-L1B-file-name-convention)\n",
    "3. [Geophysical variable naming convention](#Geophysical-variable-naming-convention)\n",
    "3. [Vertical stare measurements](#Vertical-stare-measurements)\n",
    "4. [Horizontal stare measurements](#Horizontal-stare-measurements)\n",
    "5. [Scanning measurements](#Scanning-measurements)\n",
    "\n",
    "## Preparing your python environment to run this jupyter notebook\n",
    "\n",
    "In addition to have JupyterLab installed, you will need to the following Python packages to run this notebook. \n",
    "1. xarray\n",
    "2. netcdf4\n",
    "3. bokeh\n",
    "4. holoviews\n",
    "5. hvplot\n",
    "6. datashader\n",
    "7. pyviz_comms\n",
    "\n",
    "## Introduction\n",
    "\n",
    "(The Jupyter Notebook that generated this page is [available here](https://github.com/ssec/hsrl/tree/main/doc).)\n",
    "\n",
    "The ground-based University of Wisconsin (UW)-Madison scanning High Spectral Resolution Lidar (HSRL) *L1B* (similar to a NASA CALIOP L1B product) scanning product consists of the following geophysical 532nm wavelength calibrated measurements:\n",
    "1. particulate backscatter [$\\mathrm{m}^{-1}\\,\\mathrm{sr}^{-1}$],\n",
    "2. particulate linear depolarization ratio,\n",
    "3. particulate optical depth,\n",
    "4. and attenuated color ratio between the 1064nm and 532nm wavelengths. \n",
    "\n",
    "The calibrated 1064nm attenuated backscatter [$\\mathrm{m}^{-1}\\,\\mathrm{sr}^{-1}$] will be added in the future, along with uncertainties (i.e. standard deviation) of each geophysical variable. \n",
    "\n",
    "The UW HSRL produces these measurements in three viewing angle configurations. \n",
    "\n",
    "* Similar to most ground-based lidar instruments the UW HSRL make continuous \"up looking\" measurements which we call **vertical stare** measurements.\n",
    "* Next, the UW HSRL is capable of making continuous **horizontal stare** measurements at an oblique angle between 70° and 90° relative to zenith.\n",
    "* Finally, the HSRL makes repeated **scanning** measurements between 70° and 90°, nominally in 0.5° steps, where each directional scan is conducted within a minute.\n",
    "\n",
    "These three viewing measurement configurations are organized in their own netcdf4 groups which will be discussed in the subsequent subsections. Here is how you download the sample (prelimary) 1.4 GB L1B netcdf4 file."
   ]
  },
  {
   "cell_type": "code",
   "execution_count": null,
   "metadata": {
    "editable": true,
    "slideshow": {
     "slide_type": ""
    },
    "tags": []
   },
   "outputs": [],
   "source": [
    "import urllib.request\n",
    "from pathlib import Path\n",
    "\n",
    "# The remote URL of the sample L1B file\n",
    "remote_l1b_url_str = (\n",
    "    \"https://ftp.ssec.wisc.edu/pub/incoming/\"\n",
    "    \"bagohsrl_20230814T000000_20230815T000000_30.0s_7.5m_1.0deg_L1B_preliminary.nc\"\n",
    ")\n",
    "\n",
    "# Whereto the file will be loaded\n",
    "l1b_fileP = Path(\"~/\").expanduser() / Path(remote_l1b_url_str).name\n",
    "\n",
    "# If the file has not been downloaded yet...download the file\n",
    "if l1b_fileP.exists() is False:\n",
    "    _, header_obj = urllib.request.urlretrieve(remote_l1b_url_str, str(l1b_fileP))\n",
    "\n",
    "    # Print how big the file is that you downloaded, just to \n",
    "    # make sure that the whole 1.4 GB of data was downloaded\n",
    "    print(\n",
    "        \"Downloaded {:.1f} GB of data to file {:s}.\".format(\n",
    "            round(int(header_obj[\"Content-Length\"]) / 1024**3, 1),\n",
    "            str(l1b_fileP)\n",
    "        )\n",
    "    )"
   ]
  },
  {
   "cell_type": "markdown",
   "metadata": {},
   "source": [
    "## The L1B file name convention\n",
    "\n",
    "The L1B file name consists of the following parts:\n",
    "```\n",
    "<instrument name>_<start date>_<end date>_<time resolution>s_<altitude resolution>m_<angle resolution>deg_L1B<_tag>.nc\n",
    "```\n",
    "For example the specific UW HSRL instrument is designated as the `bagohsrl`. The file consists of measurements of the 4th of August where the nominal time and altitude resolutions are 30 seconds and 7.5 meters, and the scanning data has a (downsampled) angular resolution of 1 degree. Finally the tag `preliminary` provides a label of the file.\n",
    "\n",
    "## Geophysical variable naming convention\n",
    "\n",
    "Similar to the CALIOP L1B product the geophysical variable names encode the wavelength. The self explanatory variable names are \n",
    "\n",
    "* `particulate_backscatter_532nm`\n",
    "* `particulate_linear_depolarization_532nm`\n",
    "* `particulate_optical_depth_532nm`\n",
    "* `attenuated_color_ratio_1064nm_532nm`\n",
    "\n",
    "## Vertical stare measurements\n",
    "\n",
    "Here is how you get the vertical stare data via xarray. The HSRL geophysical variable dimensions are time and mean sea level (MSL) altitude. When you hover your mouse cursor over the variable name under `Data variables` you will see the full name. The document icon button to the far right, when clicked upon, shows you the attributes of the corresponding variable. "
   ]
  },
  {
   "cell_type": "code",
   "execution_count": null,
   "metadata": {},
   "outputs": [],
   "source": [
    "import numpy as np\n",
    "import xarray as xr\n",
    "\n",
    "vert_stare_ds = xr.open_dataset(l1b_fileP, group=\"vertical_stare\")\n",
    "vert_stare_ds"
   ]
  },
  {
   "cell_type": "markdown",
   "metadata": {},
   "source": [
    "Here are the vertical stare geophysical variables plots. The white columns in the images are the time intervals when the HSRL was either making horizontal stares or scanning. The rest of the white areas, above 5km altitude, are low signal to noise ratio (SNR) measurements that were masked out. Note that the particulate optical depth has negative values, since we are in the process of post calibrating the HSRL."
   ]
  },
  {
   "cell_type": "code",
   "execution_count": null,
   "metadata": {},
   "outputs": [],
   "source": [
    "import hvplot.xarray\n",
    "import holoviews as hv\n",
    "\n",
    "hv.extension(\"bokeh\")\n",
    "hv.config.image_rtol = 10\n",
    "hv.opts.defaults(hv.opts.Image(active_tools=[\"box_zoom\"]))\n",
    "hv.opts.defaults(hv.opts.QuadMesh(active_tools=[\"box_zoom\"]))\n",
    "hv.opts.defaults(hv.opts.Curve(active_tools=[\"box_zoom\"], show_grid=True))\n",
    "hv.opts.defaults(hv.opts.Scatter(active_tools=[\"box_zoom\"], show_grid=True))\n",
    "\n",
    "# Whether to use data shader to aggregate the image pixels when \n",
    "# plot the data; refer to \n",
    "# https://hvplot.holoviz.org/user_guide/Customization.html#datashading-options\n",
    "enable_plot_rasterize_bl = True\n",
    "\n",
    "(\n",
    "    # Plot the particulate backscatter\n",
    "    vert_stare_ds.particulate_backscatter_532nm.hvplot(\n",
    "        x=\"time\", y=\"altitude\", cmap=\"turbo\", clim=(1e-8, 1e-4), logz=True,\n",
    "        clabel=\"{:s} [{:s}]\".format(\n",
    "            vert_stare_ds.particulate_backscatter_532nm.attrs[\"long_name\"],\n",
    "            vert_stare_ds.particulate_backscatter_532nm.attrs[\"units\"]\n",
    "        ),\n",
    "        rasterize=enable_plot_rasterize_bl\n",
    "    ).opts(title=vert_stare_ds.particulate_backscatter_532nm.attrs[\"long_name\"].replace(\"_\", \" \"))\n",
    "    \n",
    "    # Plot the particulate linear depolarization\n",
    "    + vert_stare_ds.particulate_linear_depolarization_532nm.hvplot(\n",
    "        x=\"time\", y=\"altitude\", cmap=\"turbo\", clim=(0, 0.6),\n",
    "        clabel=\"{:s}\".format(\n",
    "            vert_stare_ds.particulate_linear_depolarization_532nm.attrs[\"long_name\"],\n",
    "        ),\n",
    "        rasterize=enable_plot_rasterize_bl\n",
    "    ).opts(title=vert_stare_ds.particulate_linear_depolarization_532nm.attrs[\"long_name\"].replace(\"_\", \" \"))\n",
    "    \n",
    "    # Plot the particulate optical depth\n",
    "    + vert_stare_ds.particulate_optical_depth_532nm.hvplot(\n",
    "        x=\"time\", y=\"altitude\", cmap=\"turbo\", clim=(None, 0.8),\n",
    "        clabel=\"{:s}\".format(\n",
    "            vert_stare_ds.particulate_optical_depth_532nm.attrs[\"long_name\"],\n",
    "        ),\n",
    "        rasterize=enable_plot_rasterize_bl\n",
    "    ).opts(title=vert_stare_ds.particulate_optical_depth_532nm.attrs[\"long_name\"].replace(\"_\", \" \"))\n",
    "    \n",
    "    # Plot the attenuated color ratio\n",
    "    + vert_stare_ds.attenuated_color_ratio_1064nm_532nm.hvplot(\n",
    "        x=\"time\", y=\"altitude\", cmap=\"turbo\", clim=(0, 1.0),\n",
    "        clabel=\"{:s}\".format(\n",
    "            vert_stare_ds.attenuated_color_ratio_1064nm_532nm.attrs[\"long_name\"],\n",
    "        ),\n",
    "        rasterize=enable_plot_rasterize_bl\n",
    "    ).opts(title=vert_stare_ds.attenuated_color_ratio_1064nm_532nm.attrs[\"long_name\"].replace(\"_\", \" \"))\n",
    ").opts(title=\"MAGPIE, Barbados, Ragged Point, 2023-08-14\").cols(2)"
   ]
  },
  {
   "cell_type": "markdown",
   "metadata": {},
   "source": [
    "## Horizontal stare measurements\n",
    "\n",
    "Unlike the vertical stare measurements, the dimensions of the horizontal stare geophysical variable dimensions are time and range, i.e. the optical path distance between the instrument and the atmospheric volume. Within the netcdf4 group two dimensional altitude coordinates are provided, as a function of time.\n",
    "\n",
    "(Note: The horizontal stare viewing angle will be added in the near future.)"
   ]
  },
  {
   "cell_type": "code",
   "execution_count": null,
   "metadata": {},
   "outputs": [],
   "source": [
    "horz_stare_ds = xr.open_dataset(l1b_fileP, group=\"horizontal_stare\")\n",
    "horz_stare_ds"
   ]
  },
  {
   "cell_type": "markdown",
   "metadata": {},
   "source": [
    "Here are the horizontal stare geophysical variables plots. The white columns in the images are the time intervals when the HSRL was either making vertical stares or scanning. The rest of the white areas, above 5km altitude, are low signal to noise ratio (SNR) measurements that were masked out. Note that the particulate optical depth has negative values, since we are in the process of post calibrating the HSRL."
   ]
  },
  {
   "cell_type": "code",
   "execution_count": null,
   "metadata": {},
   "outputs": [],
   "source": [
    "(\n",
    "    # Plot the particulate backscatter\n",
    "    horz_stare_ds.particulate_backscatter_532nm.hvplot(\n",
    "        x=\"time\", y=\"range\", cmap=\"turbo\", clim=(2e-6, 7e-6), logz=False,\n",
    "        clabel=\"{:s} [{:s}]\".format(\n",
    "            horz_stare_ds.particulate_backscatter_532nm.attrs[\"long_name\"],\n",
    "            horz_stare_ds.particulate_backscatter_532nm.attrs[\"units\"]\n",
    "        ),\n",
    "        rasterize=enable_plot_rasterize_bl\n",
    "    ).opts(title=horz_stare_ds.particulate_backscatter_532nm.attrs[\"long_name\"].replace(\"_\", \" \"))\n",
    "    \n",
    "    # Plot the particulate linear depolarization\n",
    "    + horz_stare_ds.particulate_linear_depolarization_532nm.hvplot(\n",
    "        x=\"time\", y=\"range\", cmap=\"turbo\", clim=(0.01, 0.09),\n",
    "        clabel=\"{:s}\".format(\n",
    "            horz_stare_ds.particulate_linear_depolarization_532nm.attrs[\"long_name\"],\n",
    "        ),\n",
    "        rasterize=enable_plot_rasterize_bl\n",
    "    ).opts(title=horz_stare_ds.particulate_linear_depolarization_532nm.attrs[\"long_name\"].replace(\"_\", \" \"))\n",
    "    \n",
    "    # Plot the particulate optical depth\n",
    "    + horz_stare_ds.particulate_optical_depth_532nm.hvplot(\n",
    "        x=\"time\", y=\"range\", cmap=\"turbo\", clim=(None, 0.8),\n",
    "        clabel=\"{:s}\".format(\n",
    "            horz_stare_ds.particulate_optical_depth_532nm.attrs[\"long_name\"],\n",
    "        ),\n",
    "        rasterize=enable_plot_rasterize_bl\n",
    "    ).opts(title=horz_stare_ds.particulate_optical_depth_532nm.attrs[\"long_name\"].replace(\"_\", \" \"))\n",
    "    \n",
    "    # Plot the attenuated color ratio\n",
    "    + horz_stare_ds.attenuated_color_ratio_1064nm_532nm.hvplot(\n",
    "        x=\"time\", y=\"range\", cmap=\"turbo\", clim=(0.3, 0.6),\n",
    "        clabel=\"{:s}\".format(\n",
    "            horz_stare_ds.attenuated_color_ratio_1064nm_532nm.attrs[\"long_name\"],\n",
    "        ),\n",
    "        rasterize=enable_plot_rasterize_bl\n",
    "    ).opts(title=horz_stare_ds.attenuated_color_ratio_1064nm_532nm.attrs[\"long_name\"].replace(\"_\", \" \"))\n",
    ").opts(title=\"MAGPIE, Barbados, Ragged Point, 2023-08-14\").cols(2)"
   ]
  },
  {
   "cell_type": "markdown",
   "metadata": {},
   "source": [
    "The following plot shows the altitude of the measurements at ranges 5km. "
   ]
  },
  {
   "cell_type": "code",
   "execution_count": null,
   "metadata": {},
   "outputs": [],
   "source": [
    "altitude_da = horz_stare_ds.altitude\n",
    "altitude_da.name = \"altitude coordinate\"\n",
    "\n",
    "altitude_da.sel(range=5.0e+3, method=\"nearest\").hvplot(x=\"time\", label=\"range 5km\")"
   ]
  },
  {
   "cell_type": "markdown",
   "metadata": {},
   "source": [
    "## Scanning measurements\n",
    "\n",
    "The scanning measurement dimensions are angle (i.e. scan angle), range and the scan start time by which each individual scan is indexed. Accompanied with these dimensions are the corresponding altitude and distance coordinates which can be used in plotting routines."
   ]
  },
  {
   "cell_type": "code",
   "execution_count": null,
   "metadata": {},
   "outputs": [],
   "source": [
    "scanning_ds = xr.open_dataset(l1b_fileP, group=\"scanning\")\n",
    "scanning_ds"
   ]
  },
  {
   "cell_type": "markdown",
   "metadata": {},
   "source": [
    "In the following plots low SNR measurements are masked out. "
   ]
  },
  {
   "cell_type": "code",
   "execution_count": null,
   "metadata": {},
   "outputs": [],
   "source": [
    "(\n",
    "    # Plot the particulate backscatter\n",
    "    scanning_ds.particulate_backscatter_532nm.hvplot.quadmesh(\n",
    "        x=\"distance\", y=\"altitude\", cmap=\"turbo\", clim=(1e-8, 1e-4), logz=True,\n",
    "        clabel=\"{:s} [{:s}]\".format(\n",
    "            scanning_ds.particulate_backscatter_532nm.attrs[\"long_name\"],\n",
    "            scanning_ds.particulate_backscatter_532nm.attrs[\"units\"]\n",
    "        ),\n",
    "        rasterize=enable_plot_rasterize_bl\n",
    "    ).opts(title=scanning_ds.particulate_backscatter_532nm.attrs[\"long_name\"].replace(\"_\", \" \"))\n",
    "    \n",
    "    # Plot the particulate linear depolarization\n",
    "    + scanning_ds.particulate_linear_depolarization_532nm.hvplot.quadmesh(\n",
    "        x=\"distance\", y=\"altitude\", cmap=\"turbo\", clim=(0.0, 0.6),\n",
    "        clabel=\"{:s}\".format(\n",
    "            scanning_ds.particulate_linear_depolarization_532nm.attrs[\"long_name\"],\n",
    "        ),\n",
    "        rasterize=enable_plot_rasterize_bl\n",
    "    ).opts(title=scanning_ds.particulate_linear_depolarization_532nm.attrs[\"long_name\"].replace(\"_\", \" \"))\n",
    "    \n",
    "    # Plot the particulate optical depth\n",
    "    + scanning_ds.particulate_optical_depth_532nm.hvplot.quadmesh(\n",
    "        x=\"distance\", y=\"altitude\", cmap=\"turbo\", clim=(None, 0.8),\n",
    "        clabel=\"{:s}\".format(\n",
    "            scanning_ds.particulate_optical_depth_532nm.attrs[\"long_name\"],\n",
    "        ),\n",
    "        rasterize=enable_plot_rasterize_bl\n",
    "    ).opts(title=scanning_ds.particulate_optical_depth_532nm.attrs[\"long_name\"].replace(\"_\", \" \"))\n",
    "    \n",
    "    # Plot the attenuated color ratio\n",
    "    + scanning_ds.attenuated_color_ratio_1064nm_532nm.hvplot.quadmesh(\n",
    "        x=\"distance\", y=\"altitude\", cmap=\"turbo\", clim=(0.0, 1.0),\n",
    "        clabel=\"{:s}\".format(\n",
    "            scanning_ds.attenuated_color_ratio_1064nm_532nm.attrs[\"long_name\"],\n",
    "        ),\n",
    "        rasterize=enable_plot_rasterize_bl\n",
    "    ).opts(title=scanning_ds.attenuated_color_ratio_1064nm_532nm.attrs[\"long_name\"].replace(\"_\", \" \"))\n",
    ").opts(title=\"MAGPIE, Barbados, Ragged Point, 2023-08-14\").cols(2)"
   ]
  },
  {
   "cell_type": "markdown",
   "metadata": {},
   "source": [
    "Here is how you make a timeseries plot of the scanning measurements over altitude and distance intervals $(60\\mathrm{m}, 100\\mathrm{m})$ and $(2980\\mathrm{m}, 3020\\mathrm{m})$."
   ]
  },
  {
   "cell_type": "code",
   "execution_count": null,
   "metadata": {},
   "outputs": [],
   "source": [
    "# The altitude interval\n",
    "altitude_tpl = (80 - 20, 80 + 20)\n",
    "\n",
    "# The distance interval\n",
    "distance_tpl = (3000 - 20, 3000 + 20)\n",
    "\n",
    "# Compute the mean values of the geophysical variables over the distance and altitude intervals\n",
    "mean_scanning_ds = \\\n",
    "    scanning_ds.\\\n",
    "    where(\n",
    "        (distance_tpl[0] < scanning_ds.distance) & (scanning_ds.distance <= distance_tpl[1]), \n",
    "        drop=True\n",
    "    ).\\\n",
    "    where(\n",
    "        (altitude_tpl[0] < scanning_ds.altitude) & (scanning_ds.altitude <= altitude_tpl[1]), \n",
    "        drop=True\n",
    "    ).\\\n",
    "    mean(dim=[\"angle\", \"range\"], keep_attrs=True)\n",
    "\n",
    "# Plot the mean values of the geophysical variables over the distance and altitude intervals\n",
    "(\n",
    "    mean_scanning_ds.particulate_backscatter_532nm.hvplot.scatter(\n",
    "        x=\"start_time\", xlabel=\"Scan start time\", grid=True\n",
    "    )\n",
    "    + mean_scanning_ds.particulate_linear_depolarization_532nm.hvplot.scatter(\n",
    "        x=\"start_time\", xlabel=\"Scan start time\", grid=True\n",
    "    )\n",
    "    + mean_scanning_ds.particulate_optical_depth_532nm.hvplot.scatter(\n",
    "        x=\"start_time\", xlabel=\"Scan start time\", grid=True\n",
    "    )\n",
    "    + mean_scanning_ds.attenuated_color_ratio_1064nm_532nm.hvplot.scatter(\n",
    "        x=\"start_time\", xlabel=\"Scan start time\", grid=True\n",
    "    )\n",
    ").opts(title=\"Scanning measurements over altitude and distance intervals [60, 100]m and [2980, 3020]m\").cols(2)"
   ]
  }
 ],
 "metadata": {
  "kernelspec": {
   "display_name": "hsrl-calibration",
   "language": "python",
   "name": "hsrl-calibration"
  },
  "language_info": {
   "codemirror_mode": {
    "name": "ipython",
    "version": 3
   },
   "file_extension": ".py",
   "mimetype": "text/x-python",
   "name": "python",
   "nbconvert_exporter": "python",
   "pygments_lexer": "ipython3",
   "version": "3.10.12"
  }
 },
 "nbformat": 4,
 "nbformat_minor": 4
}
